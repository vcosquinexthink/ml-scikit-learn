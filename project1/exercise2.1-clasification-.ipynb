{
 "cells": [
  {
   "cell_type": "code",
   "execution_count": 4,
   "id": "242374e6-9efc-4569-84f4-c58e6bc1dd1d",
   "metadata": {},
   "outputs": [],
   "source": [
    "import pandas as pd\n",
    "import numpy as np\n",
    "import joblib\n",
    "from sklearn.datasets import make_classification\n"
   ]
  },
  {
   "cell_type": "markdown",
   "id": "e80fe90b-2595-49a0-9a65-1b443d3fec48",
   "metadata": {},
   "source": [
    "Load the Model"
   ]
  },
  {
   "cell_type": "code",
   "execution_count": 2,
   "id": "54f3decc-4ac9-4687-9a43-919e2e07ab32",
   "metadata": {},
   "outputs": [
    {
     "name": "stdout",
     "output_type": "stream",
     "text": [
      "Model loaded successfully!\n"
     ]
    }
   ],
   "source": [
    "\n",
    "# Load the trained model\n",
    "model = joblib.load(\"iris_rf_model.pkl\")\n",
    "print(\"Model loaded successfully!\")"
   ]
  },
  {
   "cell_type": "markdown",
   "id": "0484b2c7-6cc9-4ed2-82b3-13f1f330fabd",
   "metadata": {},
   "source": [
    "Generate a random dataset to be classified"
   ]
  },
  {
   "cell_type": "code",
   "execution_count": 5,
   "id": "544f913d-22eb-4875-8c03-f98e227bd818",
   "metadata": {},
   "outputs": [
    {
     "name": "stdout",
     "output_type": "stream",
     "text": [
      "CSV file created with features matching Iris dataset: 'iris_new_samples.csv'\n"
     ]
    }
   ],
   "source": [
    "\n",
    "# Define the feature ranges from the Iris dataset\n",
    "feature_ranges = {\n",
    "    'sepal length (cm)': (4.3, 7.9),\n",
    "    'sepal width (cm)': (2.0, 4.4),\n",
    "    'petal length (cm)': (1.0, 6.9),\n",
    "    'petal width (cm)': (0.1, 2.5)\n",
    "}\n",
    "\n",
    "# Generate 10 random samples within the specified ranges\n",
    "n_samples = 10\n",
    "random_samples = {\n",
    "    feature: np.random.uniform(low, high, n_samples)\n",
    "    for feature, (low, high) in feature_ranges.items()\n",
    "}\n",
    "\n",
    "# Convert to a DataFrame\n",
    "new_samples = pd.DataFrame(random_samples)\n",
    "\n",
    "# Save to a CSV file\n",
    "new_samples.to_csv(\"iris_new_samples.csv\", index=False)\n",
    "print(\"CSV file created with features matching Iris dataset: 'iris_new_samples.csv'\")"
   ]
  },
  {
   "cell_type": "markdown",
   "id": "63a1598e-6ebb-4d3d-aecf-1398b07fb2d8",
   "metadata": {},
   "source": [
    "Classify the random samples"
   ]
  },
  {
   "cell_type": "code",
   "execution_count": 8,
   "id": "6863ec0d-4764-4990-819b-d4d93331d450",
   "metadata": {},
   "outputs": [
    {
     "name": "stdout",
     "output_type": "stream",
     "text": [
      "Model loaded successfully!\n",
      "New Samples:\n",
      "   sepal length (cm)  sepal width (cm)  petal length (cm)  petal width (cm)\n",
      "0           7.093942          3.499000           2.142591          0.740734\n",
      "1           4.318048          3.921224           2.529653          1.375687\n",
      "2           6.246194          3.808495           1.551983          2.267765\n",
      "3           6.225889          4.171543           2.197818          0.162415\n",
      "4           4.555361          2.734477           4.018479          0.210277\n",
      "5           6.461829          2.888324           1.073700          1.995223\n",
      "6           5.003394          2.129859           2.902378          0.955571\n",
      "7           6.958287          3.047617           5.827956          1.005676\n",
      "8           7.815752          3.212175           2.468737          0.250728\n",
      "9           7.127006          2.691106           1.850156          0.937123\n",
      "Classified Samples:\n",
      "   sepal length (cm)  sepal width (cm)  petal length (cm)  petal width (cm)  \\\n",
      "0           7.093942          3.499000           2.142591          0.740734   \n",
      "1           4.318048          3.921224           2.529653          1.375687   \n",
      "2           6.246194          3.808495           1.551983          2.267765   \n",
      "3           6.225889          4.171543           2.197818          0.162415   \n",
      "4           4.555361          2.734477           4.018479          0.210277   \n",
      "5           6.461829          2.888324           1.073700          1.995223   \n",
      "6           5.003394          2.129859           2.902378          0.955571   \n",
      "7           6.958287          3.047617           5.827956          1.005676   \n",
      "8           7.815752          3.212175           2.468737          0.250728   \n",
      "9           7.127006          2.691106           1.850156          0.937123   \n",
      "\n",
      "   Predicted Class  \n",
      "0                0  \n",
      "1                1  \n",
      "2                0  \n",
      "3                0  \n",
      "4                0  \n",
      "5                0  \n",
      "6                1  \n",
      "7                2  \n",
      "8                0  \n",
      "9                1  \n",
      "Classified samples saved to 'iris_classified_samples.csv'\n"
     ]
    }
   ],
   "source": [
    "\n",
    "# Load the trained model\n",
    "model = joblib.load(\"iris_rf_model.pkl\")\n",
    "print(\"Model loaded successfully!\")\n",
    "\n",
    "# Load the new samples from the CSV file\n",
    "new_samples = pd.read_csv(\"iris_new_samples.csv\")\n",
    "expected_columns = ['sepal length (cm)', 'sepal width (cm)', 'petal length (cm)', 'petal width (cm)']\n",
    "new_samples = new_samples[expected_columns]\n",
    "print(\"New Samples:\")\n",
    "print(new_samples)\n",
    "\n",
    "# Predict the class of each sample\n",
    "predictions = model.predict(new_samples.values)\n",
    "\n",
    "# Add predictions to the DataFrame\n",
    "new_samples['Predicted Class'] = predictions\n",
    "print(\"Classified Samples:\")\n",
    "print(new_samples)\n",
    "\n",
    "# Save the classified samples to a new CSV file\n",
    "new_samples.to_csv(\"iris_classified_samples.csv\", index=False)\n",
    "print(\"Classified samples saved to 'iris_classified_samples.csv'\")\n"
   ]
  },
  {
   "cell_type": "code",
   "execution_count": null,
   "id": "cde12a8c-da46-421c-ba11-a8cd66b80002",
   "metadata": {},
   "outputs": [],
   "source": []
  }
 ],
 "metadata": {
  "kernelspec": {
   "display_name": "Python 3 (ipykernel)",
   "language": "python",
   "name": "python3"
  },
  "language_info": {
   "codemirror_mode": {
    "name": "ipython",
    "version": 3
   },
   "file_extension": ".py",
   "mimetype": "text/x-python",
   "name": "python",
   "nbconvert_exporter": "python",
   "pygments_lexer": "ipython3",
   "version": "3.10.16"
  }
 },
 "nbformat": 4,
 "nbformat_minor": 5
}
